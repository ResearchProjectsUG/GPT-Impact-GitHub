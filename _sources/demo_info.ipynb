{
 "cells": [
  {
   "cell_type": "markdown",
   "metadata": {},
   "source": [
    "# Demographic Information and Comparisons between Bangladesh, India, and Sri Lanka"
   ]
  },
  {
   "cell_type": "markdown",
   "metadata": {},
   "source": [
    "## Population density\n",
    "\n",
    "<iframe src=\"./_assets/pop_density/.html\" height=\"600\" width=\"800\"></iframe>"
   ]
  },
  {
   "cell_type": "markdown",
   "metadata": {},
   "source": [
    "## Built Area by Administrative Sub-Divition (Adm-3)\n",
    "\n",
    "<iframe src=\"./_assets/buildings_per_adm3/.html\" height=\"600\" width=\"800\"></iframe>"
   ]
  }
 ],
 "metadata": {
  "language_info": {
   "name": "python"
  }
 },
 "nbformat": 4,
 "nbformat_minor": 2
}
