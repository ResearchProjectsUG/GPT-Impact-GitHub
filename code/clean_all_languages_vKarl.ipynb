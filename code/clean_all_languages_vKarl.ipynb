{
 "cells": [
  {
   "cell_type": "code",
   "execution_count": 3,
   "id": "initial_id",
   "metadata": {
    "collapsed": true,
    "ExecuteTime": {
     "end_time": "2024-06-29T15:54:08.329142Z",
     "start_time": "2024-06-29T15:53:49.859265Z"
    }
   },
   "outputs": [],
   "source": [
    "import pandas as pd\n",
    "import numpy as np\n",
    "from sklearn.preprocessing import LabelEncoder\n",
    "import pycountry\n",
    "from countryinfo import CountryInfo as CInfo \n",
    "import matplotlib.pyplot as plt\n",
    "import  altair  as  alt \n",
    "import statsmodels.api as sm\n",
    "import matplotlib.pyplot as plt\n",
    "import seaborn as sns"
   ]
  },
  {
   "cell_type": "code",
   "outputs": [],
   "source": [
    "import warnings\n",
    "warnings.filterwarnings(\"ignore\")"
   ],
   "metadata": {
    "collapsed": false,
    "ExecuteTime": {
     "end_time": "2024-06-29T15:54:13.527166Z",
     "start_time": "2024-06-29T15:54:13.507792Z"
    }
   },
   "id": "1d53681ddfa7ac3b",
   "execution_count": 4
  },
  {
   "cell_type": "code",
   "outputs": [
    {
     "data": {
      "text/plain": "        num_pushers          language language_type iso2_code  year  quarter\n0              2066              HTML        markup        AE  2020        1\n1              1627               CSS        markup        AE  2020        1\n2               288  Jupyter Notebook        markup        AE  2020        1\n3               108               Vue        markup        AE  2020        1\n4              1734        JavaScript   programming        AE  2020        1\n...             ...               ...           ...       ...   ...      ...\n104437          198        TypeScript   programming        ZW  2023        4\n104438          150                 C   programming        ZW  2023        4\n104439          140        Dockerfile   programming        ZW  2023        4\n104440          140               PHP   programming        ZW  2023        4\n104441          139              Java   programming        ZW  2023        4\n\n[104442 rows x 6 columns]",
      "text/html": "<div>\n<style scoped>\n    .dataframe tbody tr th:only-of-type {\n        vertical-align: middle;\n    }\n\n    .dataframe tbody tr th {\n        vertical-align: top;\n    }\n\n    .dataframe thead th {\n        text-align: right;\n    }\n</style>\n<table border=\"1\" class=\"dataframe\">\n  <thead>\n    <tr style=\"text-align: right;\">\n      <th></th>\n      <th>num_pushers</th>\n      <th>language</th>\n      <th>language_type</th>\n      <th>iso2_code</th>\n      <th>year</th>\n      <th>quarter</th>\n    </tr>\n  </thead>\n  <tbody>\n    <tr>\n      <th>0</th>\n      <td>2066</td>\n      <td>HTML</td>\n      <td>markup</td>\n      <td>AE</td>\n      <td>2020</td>\n      <td>1</td>\n    </tr>\n    <tr>\n      <th>1</th>\n      <td>1627</td>\n      <td>CSS</td>\n      <td>markup</td>\n      <td>AE</td>\n      <td>2020</td>\n      <td>1</td>\n    </tr>\n    <tr>\n      <th>2</th>\n      <td>288</td>\n      <td>Jupyter Notebook</td>\n      <td>markup</td>\n      <td>AE</td>\n      <td>2020</td>\n      <td>1</td>\n    </tr>\n    <tr>\n      <th>3</th>\n      <td>108</td>\n      <td>Vue</td>\n      <td>markup</td>\n      <td>AE</td>\n      <td>2020</td>\n      <td>1</td>\n    </tr>\n    <tr>\n      <th>4</th>\n      <td>1734</td>\n      <td>JavaScript</td>\n      <td>programming</td>\n      <td>AE</td>\n      <td>2020</td>\n      <td>1</td>\n    </tr>\n    <tr>\n      <th>...</th>\n      <td>...</td>\n      <td>...</td>\n      <td>...</td>\n      <td>...</td>\n      <td>...</td>\n      <td>...</td>\n    </tr>\n    <tr>\n      <th>104437</th>\n      <td>198</td>\n      <td>TypeScript</td>\n      <td>programming</td>\n      <td>ZW</td>\n      <td>2023</td>\n      <td>4</td>\n    </tr>\n    <tr>\n      <th>104438</th>\n      <td>150</td>\n      <td>C</td>\n      <td>programming</td>\n      <td>ZW</td>\n      <td>2023</td>\n      <td>4</td>\n    </tr>\n    <tr>\n      <th>104439</th>\n      <td>140</td>\n      <td>Dockerfile</td>\n      <td>programming</td>\n      <td>ZW</td>\n      <td>2023</td>\n      <td>4</td>\n    </tr>\n    <tr>\n      <th>104440</th>\n      <td>140</td>\n      <td>PHP</td>\n      <td>programming</td>\n      <td>ZW</td>\n      <td>2023</td>\n      <td>4</td>\n    </tr>\n    <tr>\n      <th>104441</th>\n      <td>139</td>\n      <td>Java</td>\n      <td>programming</td>\n      <td>ZW</td>\n      <td>2023</td>\n      <td>4</td>\n    </tr>\n  </tbody>\n</table>\n<p>104442 rows × 6 columns</p>\n</div>"
     },
     "execution_count": 51,
     "metadata": {},
     "output_type": "execute_result"
    }
   ],
   "source": [
    "# Step 1: Load and preprocess the data\n",
    "url = \"https://raw.githubusercontent.com/github/innovationgraph/main/data/languages.csv\"\n",
    "data = pd.read_csv(url, delimiter=',', keep_default_na=False)\n",
    "data"
   ],
   "metadata": {
    "collapsed": false,
    "ExecuteTime": {
     "end_time": "2024-06-17T21:58:52.517290Z",
     "start_time": "2024-06-17T21:58:50.613468Z"
    }
   },
   "id": "ad6c8171e8eedf31",
   "execution_count": 51
  },
  {
   "cell_type": "code",
   "outputs": [
    {
     "data": {
      "text/plain": "            unique_id year_quarter  num_pushers\n0             AE-HTML      2020-Q1       2066.0\n1             AE-HTML      2020-Q2       3254.0\n2             AE-HTML      2020-Q3       3208.0\n3             AE-HTML      2020-Q4       3255.0\n4             AE-HTML      2021-Q1       3321.0\n...               ...          ...          ...\n136203  YE-TypeScript      2022-Q4          0.0\n136204  YE-TypeScript      2023-Q1          0.0\n136205  YE-TypeScript      2023-Q2          0.0\n136206  YE-TypeScript      2023-Q3          0.0\n136207  YE-TypeScript      2023-Q4        111.0\n\n[136208 rows x 3 columns]",
      "text/html": "<div>\n<style scoped>\n    .dataframe tbody tr th:only-of-type {\n        vertical-align: middle;\n    }\n\n    .dataframe tbody tr th {\n        vertical-align: top;\n    }\n\n    .dataframe thead th {\n        text-align: right;\n    }\n</style>\n<table border=\"1\" class=\"dataframe\">\n  <thead>\n    <tr style=\"text-align: right;\">\n      <th></th>\n      <th>unique_id</th>\n      <th>year_quarter</th>\n      <th>num_pushers</th>\n    </tr>\n  </thead>\n  <tbody>\n    <tr>\n      <th>0</th>\n      <td>AE-HTML</td>\n      <td>2020-Q1</td>\n      <td>2066.0</td>\n    </tr>\n    <tr>\n      <th>1</th>\n      <td>AE-HTML</td>\n      <td>2020-Q2</td>\n      <td>3254.0</td>\n    </tr>\n    <tr>\n      <th>2</th>\n      <td>AE-HTML</td>\n      <td>2020-Q3</td>\n      <td>3208.0</td>\n    </tr>\n    <tr>\n      <th>3</th>\n      <td>AE-HTML</td>\n      <td>2020-Q4</td>\n      <td>3255.0</td>\n    </tr>\n    <tr>\n      <th>4</th>\n      <td>AE-HTML</td>\n      <td>2021-Q1</td>\n      <td>3321.0</td>\n    </tr>\n    <tr>\n      <th>...</th>\n      <td>...</td>\n      <td>...</td>\n      <td>...</td>\n    </tr>\n    <tr>\n      <th>136203</th>\n      <td>YE-TypeScript</td>\n      <td>2022-Q4</td>\n      <td>0.0</td>\n    </tr>\n    <tr>\n      <th>136204</th>\n      <td>YE-TypeScript</td>\n      <td>2023-Q1</td>\n      <td>0.0</td>\n    </tr>\n    <tr>\n      <th>136205</th>\n      <td>YE-TypeScript</td>\n      <td>2023-Q2</td>\n      <td>0.0</td>\n    </tr>\n    <tr>\n      <th>136206</th>\n      <td>YE-TypeScript</td>\n      <td>2023-Q3</td>\n      <td>0.0</td>\n    </tr>\n    <tr>\n      <th>136207</th>\n      <td>YE-TypeScript</td>\n      <td>2023-Q4</td>\n      <td>111.0</td>\n    </tr>\n  </tbody>\n</table>\n<p>136208 rows × 3 columns</p>\n</div>"
     },
     "execution_count": 52,
     "metadata": {},
     "output_type": "execute_result"
    }
   ],
   "source": [
    "# Step 2: Replace empty strings in 'iso2_code' with 'NA'\n",
    "data['iso2_code'].fillna('NA', inplace=True)\n",
    "\n",
    "# Filter out EU and XK\n",
    "data = data[(data.iso2_code != \"EU\") & (data.iso2_code != \"XK\")]\n",
    "\n",
    "# Step 3: Convert 'num_pushers' to numeric, coerce errors to NaN\n",
    "data['num_pushers'] = pd.to_numeric(data['num_pushers'], errors='coerce')\n",
    "\n",
    "# Create 'year_quarter' column\n",
    "data['year_quarter'] = data['year'].astype(str) + '-Q' + data['quarter'].astype(str)\n",
    "\n",
    "# Create a unique identifier\n",
    "data['unique_id'] = data['iso2_code'] + '-' + data['language']\n",
    "\n",
    "# Drop unnecessary columns\n",
    "data = data.drop(columns=['language_type', 'language', 'iso2_code', 'year', 'quarter'], errors='ignore')\n",
    "\n",
    "# Step 4: Balance the panel data\n",
    "# Extract unique year_quarters\n",
    "year_quarters = sorted(data['year_quarter'].unique())\n",
    "\n",
    "# Create a MultiIndex with all combinations of unique_id and year_quarter\n",
    "multi_index = pd.MultiIndex.from_product([data['unique_id'].unique(), year_quarters], names=['unique_id', 'year_quarter'])\n",
    "\n",
    "# Reindex the data to create a balanced panel\n",
    "balanced_df = data.set_index(['unique_id', 'year_quarter']).reindex(multi_index).reset_index()\n",
    "\n",
    "# Step 5: Fill missing values in 'num_pushers' with 0\n",
    "balanced_df['num_pushers'] = balanced_df['num_pushers'].fillna(0)\n",
    "\n",
    "# Display the balanced panel data\n",
    "balanced_df"
   ],
   "metadata": {
    "collapsed": false,
    "ExecuteTime": {
     "end_time": "2024-06-17T21:58:53.391798Z",
     "start_time": "2024-06-17T21:58:52.526295Z"
    }
   },
   "id": "ea36b1ce2c229e2d",
   "execution_count": 52
  },
  {
   "cell_type": "code",
   "outputs": [
    {
     "data": {
      "text/plain": "            unique_id year_quarter  num_pushers iso2_code    language  year  \\\n0             AE-HTML      2020-Q1       2066.0        AE        HTML  2020   \n1             AE-HTML      2020-Q2       3254.0        AE        HTML  2020   \n2             AE-HTML      2020-Q3       3208.0        AE        HTML  2020   \n3             AE-HTML      2020-Q4       3255.0        AE        HTML  2020   \n4             AE-HTML      2021-Q1       3321.0        AE        HTML  2021   \n...               ...          ...          ...       ...         ...   ...   \n136203  YE-TypeScript      2022-Q4          0.0        YE  TypeScript  2022   \n136204  YE-TypeScript      2023-Q1          0.0        YE  TypeScript  2023   \n136205  YE-TypeScript      2023-Q2          0.0        YE  TypeScript  2023   \n136206  YE-TypeScript      2023-Q3          0.0        YE  TypeScript  2023   \n136207  YE-TypeScript      2023-Q4        111.0        YE  TypeScript  2023   \n\n        quarter  \n0             1  \n1             2  \n2             3  \n3             4  \n4             1  \n...         ...  \n136203        4  \n136204        1  \n136205        2  \n136206        3  \n136207        4  \n\n[136208 rows x 7 columns]",
      "text/html": "<div>\n<style scoped>\n    .dataframe tbody tr th:only-of-type {\n        vertical-align: middle;\n    }\n\n    .dataframe tbody tr th {\n        vertical-align: top;\n    }\n\n    .dataframe thead th {\n        text-align: right;\n    }\n</style>\n<table border=\"1\" class=\"dataframe\">\n  <thead>\n    <tr style=\"text-align: right;\">\n      <th></th>\n      <th>unique_id</th>\n      <th>year_quarter</th>\n      <th>num_pushers</th>\n      <th>iso2_code</th>\n      <th>language</th>\n      <th>year</th>\n      <th>quarter</th>\n    </tr>\n  </thead>\n  <tbody>\n    <tr>\n      <th>0</th>\n      <td>AE-HTML</td>\n      <td>2020-Q1</td>\n      <td>2066.0</td>\n      <td>AE</td>\n      <td>HTML</td>\n      <td>2020</td>\n      <td>1</td>\n    </tr>\n    <tr>\n      <th>1</th>\n      <td>AE-HTML</td>\n      <td>2020-Q2</td>\n      <td>3254.0</td>\n      <td>AE</td>\n      <td>HTML</td>\n      <td>2020</td>\n      <td>2</td>\n    </tr>\n    <tr>\n      <th>2</th>\n      <td>AE-HTML</td>\n      <td>2020-Q3</td>\n      <td>3208.0</td>\n      <td>AE</td>\n      <td>HTML</td>\n      <td>2020</td>\n      <td>3</td>\n    </tr>\n    <tr>\n      <th>3</th>\n      <td>AE-HTML</td>\n      <td>2020-Q4</td>\n      <td>3255.0</td>\n      <td>AE</td>\n      <td>HTML</td>\n      <td>2020</td>\n      <td>4</td>\n    </tr>\n    <tr>\n      <th>4</th>\n      <td>AE-HTML</td>\n      <td>2021-Q1</td>\n      <td>3321.0</td>\n      <td>AE</td>\n      <td>HTML</td>\n      <td>2021</td>\n      <td>1</td>\n    </tr>\n    <tr>\n      <th>...</th>\n      <td>...</td>\n      <td>...</td>\n      <td>...</td>\n      <td>...</td>\n      <td>...</td>\n      <td>...</td>\n      <td>...</td>\n    </tr>\n    <tr>\n      <th>136203</th>\n      <td>YE-TypeScript</td>\n      <td>2022-Q4</td>\n      <td>0.0</td>\n      <td>YE</td>\n      <td>TypeScript</td>\n      <td>2022</td>\n      <td>4</td>\n    </tr>\n    <tr>\n      <th>136204</th>\n      <td>YE-TypeScript</td>\n      <td>2023-Q1</td>\n      <td>0.0</td>\n      <td>YE</td>\n      <td>TypeScript</td>\n      <td>2023</td>\n      <td>1</td>\n    </tr>\n    <tr>\n      <th>136205</th>\n      <td>YE-TypeScript</td>\n      <td>2023-Q2</td>\n      <td>0.0</td>\n      <td>YE</td>\n      <td>TypeScript</td>\n      <td>2023</td>\n      <td>2</td>\n    </tr>\n    <tr>\n      <th>136206</th>\n      <td>YE-TypeScript</td>\n      <td>2023-Q3</td>\n      <td>0.0</td>\n      <td>YE</td>\n      <td>TypeScript</td>\n      <td>2023</td>\n      <td>3</td>\n    </tr>\n    <tr>\n      <th>136207</th>\n      <td>YE-TypeScript</td>\n      <td>2023-Q4</td>\n      <td>111.0</td>\n      <td>YE</td>\n      <td>TypeScript</td>\n      <td>2023</td>\n      <td>4</td>\n    </tr>\n  </tbody>\n</table>\n<p>136208 rows × 7 columns</p>\n</div>"
     },
     "execution_count": 53,
     "metadata": {},
     "output_type": "execute_result"
    }
   ],
   "source": [
    "# Split 'unique_id' into 'iso2_code' and 'language'\n",
    "balanced_df['iso2_code'] = balanced_df['unique_id'].str.extract(r'^([A-Z]{2})-')[0]\n",
    "balanced_df['language'] = balanced_df['unique_id'].str.split('-').str[1:].str.join('-')\n",
    "balanced_df[['year', 'quarter']] = balanced_df['year_quarter'].str.split('-', expand=True) # AGREGADO\n",
    "quarter_map = {'Q1': 1, 'Q2': 2, 'Q3': 3, 'Q4': 4} # AGREGADO\n",
    "balanced_df['quarter'] = balanced_df['quarter'].map(quarter_map).astype(int) # AGREGADO\n",
    "balanced_df['year'] = balanced_df['year'].astype(int) # AGREGADO\n",
    "balanced_df"
   ],
   "metadata": {
    "collapsed": false,
    "ExecuteTime": {
     "end_time": "2024-06-17T21:58:57.527881Z",
     "start_time": "2024-06-17T21:58:53.400773Z"
    }
   },
   "id": "31a6ba2864397600",
   "execution_count": 53
  },
  {
   "cell_type": "code",
   "outputs": [
    {
     "data": {
      "text/plain": "            unique_id year_quarter  num_pushers iso2_code    language  year  \\\n0             AE-HTML      2020-Q1       2066.0        AE        HTML  2020   \n1             AE-HTML      2020-Q2       3254.0        AE        HTML  2020   \n2             AE-HTML      2020-Q3       3208.0        AE        HTML  2020   \n3             AE-HTML      2020-Q4       3255.0        AE        HTML  2020   \n4             AE-HTML      2021-Q1       3321.0        AE        HTML  2021   \n...               ...          ...          ...       ...         ...   ...   \n136203  YE-TypeScript      2022-Q4          0.0        YE  TypeScript  2022   \n136204  YE-TypeScript      2023-Q1          0.0        YE  TypeScript  2023   \n136205  YE-TypeScript      2023-Q2          0.0        YE  TypeScript  2023   \n136206  YE-TypeScript      2023-Q3          0.0        YE  TypeScript  2023   \n136207  YE-TypeScript      2023-Q4        111.0        YE  TypeScript  2023   \n\n        quarter  quarter_int  \n0             1            1  \n1             2            2  \n2             3            3  \n3             4            4  \n4             1            5  \n...         ...          ...  \n136203        4           12  \n136204        1           13  \n136205        2           14  \n136206        3           15  \n136207        4           16  \n\n[136208 rows x 8 columns]",
      "text/html": "<div>\n<style scoped>\n    .dataframe tbody tr th:only-of-type {\n        vertical-align: middle;\n    }\n\n    .dataframe tbody tr th {\n        vertical-align: top;\n    }\n\n    .dataframe thead th {\n        text-align: right;\n    }\n</style>\n<table border=\"1\" class=\"dataframe\">\n  <thead>\n    <tr style=\"text-align: right;\">\n      <th></th>\n      <th>unique_id</th>\n      <th>year_quarter</th>\n      <th>num_pushers</th>\n      <th>iso2_code</th>\n      <th>language</th>\n      <th>year</th>\n      <th>quarter</th>\n      <th>quarter_int</th>\n    </tr>\n  </thead>\n  <tbody>\n    <tr>\n      <th>0</th>\n      <td>AE-HTML</td>\n      <td>2020-Q1</td>\n      <td>2066.0</td>\n      <td>AE</td>\n      <td>HTML</td>\n      <td>2020</td>\n      <td>1</td>\n      <td>1</td>\n    </tr>\n    <tr>\n      <th>1</th>\n      <td>AE-HTML</td>\n      <td>2020-Q2</td>\n      <td>3254.0</td>\n      <td>AE</td>\n      <td>HTML</td>\n      <td>2020</td>\n      <td>2</td>\n      <td>2</td>\n    </tr>\n    <tr>\n      <th>2</th>\n      <td>AE-HTML</td>\n      <td>2020-Q3</td>\n      <td>3208.0</td>\n      <td>AE</td>\n      <td>HTML</td>\n      <td>2020</td>\n      <td>3</td>\n      <td>3</td>\n    </tr>\n    <tr>\n      <th>3</th>\n      <td>AE-HTML</td>\n      <td>2020-Q4</td>\n      <td>3255.0</td>\n      <td>AE</td>\n      <td>HTML</td>\n      <td>2020</td>\n      <td>4</td>\n      <td>4</td>\n    </tr>\n    <tr>\n      <th>4</th>\n      <td>AE-HTML</td>\n      <td>2021-Q1</td>\n      <td>3321.0</td>\n      <td>AE</td>\n      <td>HTML</td>\n      <td>2021</td>\n      <td>1</td>\n      <td>5</td>\n    </tr>\n    <tr>\n      <th>...</th>\n      <td>...</td>\n      <td>...</td>\n      <td>...</td>\n      <td>...</td>\n      <td>...</td>\n      <td>...</td>\n      <td>...</td>\n      <td>...</td>\n    </tr>\n    <tr>\n      <th>136203</th>\n      <td>YE-TypeScript</td>\n      <td>2022-Q4</td>\n      <td>0.0</td>\n      <td>YE</td>\n      <td>TypeScript</td>\n      <td>2022</td>\n      <td>4</td>\n      <td>12</td>\n    </tr>\n    <tr>\n      <th>136204</th>\n      <td>YE-TypeScript</td>\n      <td>2023-Q1</td>\n      <td>0.0</td>\n      <td>YE</td>\n      <td>TypeScript</td>\n      <td>2023</td>\n      <td>1</td>\n      <td>13</td>\n    </tr>\n    <tr>\n      <th>136205</th>\n      <td>YE-TypeScript</td>\n      <td>2023-Q2</td>\n      <td>0.0</td>\n      <td>YE</td>\n      <td>TypeScript</td>\n      <td>2023</td>\n      <td>2</td>\n      <td>14</td>\n    </tr>\n    <tr>\n      <th>136206</th>\n      <td>YE-TypeScript</td>\n      <td>2023-Q3</td>\n      <td>0.0</td>\n      <td>YE</td>\n      <td>TypeScript</td>\n      <td>2023</td>\n      <td>3</td>\n      <td>15</td>\n    </tr>\n    <tr>\n      <th>136207</th>\n      <td>YE-TypeScript</td>\n      <td>2023-Q4</td>\n      <td>111.0</td>\n      <td>YE</td>\n      <td>TypeScript</td>\n      <td>2023</td>\n      <td>4</td>\n      <td>16</td>\n    </tr>\n  </tbody>\n</table>\n<p>136208 rows × 8 columns</p>\n</div>"
     },
     "execution_count": 54,
     "metadata": {},
     "output_type": "execute_result"
    }
   ],
   "source": [
    "# Function to convert quarter format to integer\n",
    "def quarter_to_int(quarter_string):\n",
    "    year, q = quarter_string.split('-')\n",
    "    year = int(year)\n",
    "    quarter_number = int(q[1])  # Q1, Q2, Q3, Q4 -> 1, 2, 3, 4\n",
    "    base_year = 2020  # Adjust based on your balanced_df, or set dynamically\n",
    "    return 4 * (year - base_year) + quarter_number\n",
    "\n",
    "# Applying the function\n",
    "balanced_df['quarter_int'] = balanced_df['year_quarter'].apply(quarter_to_int)\n",
    "balanced_df"
   ],
   "metadata": {
    "collapsed": false,
    "ExecuteTime": {
     "end_time": "2024-06-17T21:58:58.000429Z",
     "start_time": "2024-06-17T21:58:57.536882Z"
    }
   },
   "id": "b09a59f8db36c9f7",
   "execution_count": 54
  },
  {
   "cell_type": "markdown",
   "source": [
    "## Per capita measures"
   ],
   "metadata": {
    "collapsed": false
   },
   "id": "ade9faea2560c68b"
  },
  {
   "cell_type": "code",
   "outputs": [],
   "source": [
    "# Definimos una función que convierte los nombres de países en códigos iso2\n",
    "def country_to_iso2(country_name):\n",
    "    try:\n",
    "        # Intentamos obtener el código iso2 del país usando pycountry\n",
    "        return pycountry.countries.get(name=country_name).alpha_2\n",
    "    except AttributeError:\n",
    "        try:\n",
    "            # Manejamos casos especiales donde el nombre del país no coincide exactamente con la base de datos de pycountry\n",
    "            special_cases = {\n",
    "                \"Czechia (Czech Republic)\": \"CZ\",\n",
    "                \"Congo (Congo-Brazzaville)\": \"CG\",\n",
    "                \"Holy See\": \"VA\",\n",
    "                \"Timor-Leste (East Timor)\": \"TL\",\n",
    "                \"Ukraine (with certain exceptions)\": \"UA\",\n",
    "                \"Taiwan\": \"TW\",\n",
    "                \"Bolivia\": \"BO\",\n",
    "                \"Tanzania\": \"TZ\",\n",
    "                \"South Korea\": \"KR\",\n",
    "                \"Moldova\": \"MD\",\n",
    "                \"Brunei\": \"BN\"\n",
    "            }\n",
    "            return special_cases[country_name]\n",
    "        except KeyError:\n",
    "            return None\n",
    "\n",
    "# Creamos una lista de países y obtenemos sus códigos iso2 usando la función country_to_iso2\n",
    "gpt_countries_list = [\n",
    "    \"Albania\", \"Algeria\", \"Andorra\", \"Angola\", \"Antigua and Barbuda\", \"Argentina\", \"Armenia\", \"Australia\", \"Austria\",\n",
    "    \"Azerbaijan\", \"Bahamas\", \"Bangladesh\", \"Barbados\", \"Belgium\", \"Belize\", \"Benin\", \"Bhutan\", \"Bolivia\",\n",
    "    \"Bosnia and Herzegovina\", \"Botswana\", \"Brazil\", \"Brunei\", \"Bulgaria\", \"Burkina Faso\", \"Cabo Verde\", \"Canada\",\n",
    "    \"Chile\", \"Colombia\", \"Comoros\", \"Congo (Congo-Brazzaville)\", \"Costa Rica\", \"Côte d'Ivoire\", \"Croatia\", \"Cyprus\",\n",
    "    \"Czechia\", \"Denmark\", \"Djibouti\", \"Dominica\", \"Dominican Republic\", \"Ecuador\", \"El Salvador\", \"Estonia\", \"Fiji\",\n",
    "    \"Finland\", \"France\", \"Gabon\", \"Gambia\", \"Georgia\", \"Germany\", \"Ghana\", \"Greece\", \"Grenada\", \"Guatemala\", \"Guinea\",\n",
    "    \"Guinea-Bissau\", \"Guyana\", \"Haiti\", \"Holy See\", \"Honduras\", \"Hungary\", \"Iceland\", \"India\", \"Indonesia\", \"Iraq\",\n",
    "    \"Ireland\", \"Israel\", \"Italy\", \"Jamaica\", \"Japan\", \"Jordan\", \"Kazakhstan\", \"Kenya\", \"Kiribati\", \"Kuwait\",\n",
    "    \"Kyrgyzstan\", \"Latvia\", \"Lebanon\", \"Lesotho\", \"Liberia\", \"Liechtenstein\", \"Lithuania\", \"Luxembourg\", \"Madagascar\",\n",
    "    \"Malawi\", \"Malaysia\", \"Maldives\", \"Mali\", \"Malta\", \"Marshall Islands\", \"Mauritania\", \"Mauritius\", \"Mexico\",\n",
    "    \"Micronesia\", \"Moldova\", \"Monaco\", \"Mongolia\", \"Montenegro\", \"Morocco\", \"Mozambique\", \"Myanmar\", \"Namibia\",\n",
    "    \"Nauru\", \"Nepal\", \"Netherlands\", \"New Zealand\", \"Nicaragua\", \"Niger\", \"Nigeria\", \"North Macedonia\", \"Norway\",\n",
    "    \"Oman\", \"Pakistan\", \"Palau\", \"Palestine, State of\", \"Panama\", \"Papua New Guinea\", \"Paraguay\", \"Peru\", \"Philippines\",\n",
    "    \"Poland\", \"Portugal\", \"Qatar\", \"Romania\", \"Rwanda\", \"Saint Kitts and Nevis\", \"Saint Lucia\",\n",
    "    \"Saint Vincent and the Grenadines\", \"Samoa\", \"San Marino\", \"Sao Tome and Principe\", \"Saudi Arabia\", \"Senegal\",\n",
    "    \"Serbia\", \"Seychelles\", \"Sierra Leone\", \"Singapore\", \"Slovakia\", \"Slovenia\", \"Solomon Islands\", \"South Africa\",\n",
    "    \"South Korea\", \"Spain\", \"Sri Lanka\", \"Suriname\", \"Sweden\", \"Switzerland\", \"Taiwan\", \"Tanzania\", \"Thailand\",\n",
    "    \"Timor-Leste\", \"Togo\", \"Tonga\", \"Trinidad and Tobago\", \"Tunisia\", \"Turkey\", \"Tuvalu\", \"Uganda\", \"Ukraine\",\n",
    "    \"United Arab Emirates\", \"United Kingdom\", \"United States\", \"Uruguay\", \"Vanuatu\", \"Zambia\"\n",
    "]\n",
    "\n",
    "gpt_countries_iso = [country_to_iso2(country) for country in gpt_countries_list]\n",
    "\n",
    "# Agregamos una nueva columna gpt_available, con valor 1 si el código iso2 está en la lista gpt_countries_iso, y 0 en caso contrario\n",
    "balanced_df[\"gpt_available\"] = balanced_df[\"iso2_code\"].apply(lambda row: 1 if row in gpt_countries_iso else 0)"
   ],
   "metadata": {
    "collapsed": false,
    "ExecuteTime": {
     "end_time": "2024-06-17T21:58:59.217995Z",
     "start_time": "2024-06-17T21:58:58.009432Z"
    }
   },
   "id": "835f68e529f0df71",
   "execution_count": 55
  },
  {
   "cell_type": "code",
   "outputs": [
    {
     "name": "stdout",
     "output_type": "stream",
     "text": [
      "ME\n",
      "MM\n",
      "PS\n",
      "AD\n"
     ]
    }
   ],
   "source": [
    "countries = balanced_df.iso2_code.unique()\n",
    "\n",
    "def create_populations_dictionary():\n",
    "    country_populations = {}\n",
    "    special_cases = {\"MM\": 54688774, \"PS\": 5483450, \"ME\": 602445, \"AD\":79824}\n",
    "    # special_cases = {}\n",
    "    for country in countries:\n",
    "        try:\n",
    "            country_populations.update({country: CInfo(country).info()[\"population\"]})\n",
    "        except KeyError:\n",
    "            try:\n",
    "                fallback_name = pycountry.countries.lookup(country).name\n",
    "                country_populations.update({country: CInfo(fallback_name).info()[\"population\"]})\n",
    "            except KeyError:\n",
    "                print(country)\n",
    "                country_populations.update({country: special_cases[country]})\n",
    "\n",
    "    return country_populations\n",
    "\n",
    "country_populations = create_populations_dictionary()"
   ],
   "metadata": {
    "collapsed": false,
    "ExecuteTime": {
     "end_time": "2024-06-17T21:59:52.456066Z",
     "start_time": "2024-06-17T21:58:59.268037Z"
    }
   },
   "id": "fc050e3d6d585748",
   "execution_count": 56
  },
  {
   "cell_type": "markdown",
   "source": [
    "# # New variables"
   ],
   "metadata": {
    "collapsed": false
   },
   "id": "12acfea55bd953f6"
  },
  {
   "cell_type": "code",
   "outputs": [],
   "source": [
    "# Create population\n",
    "balanced_df[\"population\"] = balanced_df[\"iso2_code\"].map(country_populations)\n",
    "\n",
    "# Create pushes_pc\n",
    "balanced_df[\"num_pushers_pc\"] = (balanced_df[\"num_pushers\"] / balanced_df[\"population\"])*100000\n",
    "\n",
    "# Create post_CI\n",
    "balanced_df['post_CI'] = ((balanced_df['quarter_int'] >= 12) & (balanced_df['gpt_available'] == 1)).astype(int)\n",
    "\n",
    "# Create gtp_available_post1 and gtp_available_post2\n",
    "# balanced_df['gpt_available_post1'] = balanced_df['gpt_available'] * balanced_df['post_1']\n",
    "#balanced_df['gpt_available_post2'] = balanced_df['gpt_available'] * balanced_df['post_2']"
   ],
   "metadata": {
    "collapsed": false,
    "ExecuteTime": {
     "end_time": "2024-06-17T21:59:52.597641Z",
     "start_time": "2024-06-17T21:59:52.464071Z"
    }
   },
   "id": "d5b1688d8102042e",
   "execution_count": 57
  },
  {
   "cell_type": "code",
   "outputs": [
    {
     "data": {
      "text/plain": "            unique_id year_quarter  num_pushers iso2_code    language  year  \\\n0             AE-HTML      2020-Q1       2066.0        AE        HTML  2020   \n1             AE-HTML      2020-Q2       3254.0        AE        HTML  2020   \n2             AE-HTML      2020-Q3       3208.0        AE        HTML  2020   \n3             AE-HTML      2020-Q4       3255.0        AE        HTML  2020   \n4             AE-HTML      2021-Q1       3321.0        AE        HTML  2021   \n...               ...          ...          ...       ...         ...   ...   \n136203  YE-TypeScript      2022-Q4          0.0        YE  TypeScript  2022   \n136204  YE-TypeScript      2023-Q1          0.0        YE  TypeScript  2023   \n136205  YE-TypeScript      2023-Q2          0.0        YE  TypeScript  2023   \n136206  YE-TypeScript      2023-Q3          0.0        YE  TypeScript  2023   \n136207  YE-TypeScript      2023-Q4        111.0        YE  TypeScript  2023   \n\n        quarter  quarter_int  gpt_available  population  num_pushers_pc  \\\n0             1            1              1     9446000       21.871692   \n1             2            2              1     9446000       34.448444   \n2             3            3              1     9446000       33.961465   \n3             4            4              1     9446000       34.459030   \n4             1            5              1     9446000       35.157739   \n...         ...          ...            ...         ...             ...   \n136203        4           12              0    25956000        0.000000   \n136204        1           13              0    25956000        0.000000   \n136205        2           14              0    25956000        0.000000   \n136206        3           15              0    25956000        0.000000   \n136207        4           16              0    25956000        0.427647   \n\n        post_CI  \n0             0  \n1             0  \n2             0  \n3             0  \n4             0  \n...         ...  \n136203        0  \n136204        0  \n136205        0  \n136206        0  \n136207        0  \n\n[136208 rows x 12 columns]",
      "text/html": "<div>\n<style scoped>\n    .dataframe tbody tr th:only-of-type {\n        vertical-align: middle;\n    }\n\n    .dataframe tbody tr th {\n        vertical-align: top;\n    }\n\n    .dataframe thead th {\n        text-align: right;\n    }\n</style>\n<table border=\"1\" class=\"dataframe\">\n  <thead>\n    <tr style=\"text-align: right;\">\n      <th></th>\n      <th>unique_id</th>\n      <th>year_quarter</th>\n      <th>num_pushers</th>\n      <th>iso2_code</th>\n      <th>language</th>\n      <th>year</th>\n      <th>quarter</th>\n      <th>quarter_int</th>\n      <th>gpt_available</th>\n      <th>population</th>\n      <th>num_pushers_pc</th>\n      <th>post_CI</th>\n    </tr>\n  </thead>\n  <tbody>\n    <tr>\n      <th>0</th>\n      <td>AE-HTML</td>\n      <td>2020-Q1</td>\n      <td>2066.0</td>\n      <td>AE</td>\n      <td>HTML</td>\n      <td>2020</td>\n      <td>1</td>\n      <td>1</td>\n      <td>1</td>\n      <td>9446000</td>\n      <td>21.871692</td>\n      <td>0</td>\n    </tr>\n    <tr>\n      <th>1</th>\n      <td>AE-HTML</td>\n      <td>2020-Q2</td>\n      <td>3254.0</td>\n      <td>AE</td>\n      <td>HTML</td>\n      <td>2020</td>\n      <td>2</td>\n      <td>2</td>\n      <td>1</td>\n      <td>9446000</td>\n      <td>34.448444</td>\n      <td>0</td>\n    </tr>\n    <tr>\n      <th>2</th>\n      <td>AE-HTML</td>\n      <td>2020-Q3</td>\n      <td>3208.0</td>\n      <td>AE</td>\n      <td>HTML</td>\n      <td>2020</td>\n      <td>3</td>\n      <td>3</td>\n      <td>1</td>\n      <td>9446000</td>\n      <td>33.961465</td>\n      <td>0</td>\n    </tr>\n    <tr>\n      <th>3</th>\n      <td>AE-HTML</td>\n      <td>2020-Q4</td>\n      <td>3255.0</td>\n      <td>AE</td>\n      <td>HTML</td>\n      <td>2020</td>\n      <td>4</td>\n      <td>4</td>\n      <td>1</td>\n      <td>9446000</td>\n      <td>34.459030</td>\n      <td>0</td>\n    </tr>\n    <tr>\n      <th>4</th>\n      <td>AE-HTML</td>\n      <td>2021-Q1</td>\n      <td>3321.0</td>\n      <td>AE</td>\n      <td>HTML</td>\n      <td>2021</td>\n      <td>1</td>\n      <td>5</td>\n      <td>1</td>\n      <td>9446000</td>\n      <td>35.157739</td>\n      <td>0</td>\n    </tr>\n    <tr>\n      <th>...</th>\n      <td>...</td>\n      <td>...</td>\n      <td>...</td>\n      <td>...</td>\n      <td>...</td>\n      <td>...</td>\n      <td>...</td>\n      <td>...</td>\n      <td>...</td>\n      <td>...</td>\n      <td>...</td>\n      <td>...</td>\n    </tr>\n    <tr>\n      <th>136203</th>\n      <td>YE-TypeScript</td>\n      <td>2022-Q4</td>\n      <td>0.0</td>\n      <td>YE</td>\n      <td>TypeScript</td>\n      <td>2022</td>\n      <td>4</td>\n      <td>12</td>\n      <td>0</td>\n      <td>25956000</td>\n      <td>0.000000</td>\n      <td>0</td>\n    </tr>\n    <tr>\n      <th>136204</th>\n      <td>YE-TypeScript</td>\n      <td>2023-Q1</td>\n      <td>0.0</td>\n      <td>YE</td>\n      <td>TypeScript</td>\n      <td>2023</td>\n      <td>1</td>\n      <td>13</td>\n      <td>0</td>\n      <td>25956000</td>\n      <td>0.000000</td>\n      <td>0</td>\n    </tr>\n    <tr>\n      <th>136205</th>\n      <td>YE-TypeScript</td>\n      <td>2023-Q2</td>\n      <td>0.0</td>\n      <td>YE</td>\n      <td>TypeScript</td>\n      <td>2023</td>\n      <td>2</td>\n      <td>14</td>\n      <td>0</td>\n      <td>25956000</td>\n      <td>0.000000</td>\n      <td>0</td>\n    </tr>\n    <tr>\n      <th>136206</th>\n      <td>YE-TypeScript</td>\n      <td>2023-Q3</td>\n      <td>0.0</td>\n      <td>YE</td>\n      <td>TypeScript</td>\n      <td>2023</td>\n      <td>3</td>\n      <td>15</td>\n      <td>0</td>\n      <td>25956000</td>\n      <td>0.000000</td>\n      <td>0</td>\n    </tr>\n    <tr>\n      <th>136207</th>\n      <td>YE-TypeScript</td>\n      <td>2023-Q4</td>\n      <td>111.0</td>\n      <td>YE</td>\n      <td>TypeScript</td>\n      <td>2023</td>\n      <td>4</td>\n      <td>16</td>\n      <td>0</td>\n      <td>25956000</td>\n      <td>0.427647</td>\n      <td>0</td>\n    </tr>\n  </tbody>\n</table>\n<p>136208 rows × 12 columns</p>\n</div>"
     },
     "execution_count": 58,
     "metadata": {},
     "output_type": "execute_result"
    }
   ],
   "source": [
    "balanced_df"
   ],
   "metadata": {
    "collapsed": false,
    "ExecuteTime": {
     "end_time": "2024-06-17T21:59:52.736659Z",
     "start_time": "2024-06-17T21:59:52.636635Z"
    }
   },
   "id": "bd30677998e5d116",
   "execution_count": 58
  },
  {
   "cell_type": "code",
   "outputs": [],
   "source": [
    "balanced_df.to_csv(\"D:/JetBrains/Projects/pythonProject/balanced_df.csv\")"
   ],
   "metadata": {
    "collapsed": false,
    "ExecuteTime": {
     "end_time": "2024-06-17T21:59:56.205656Z",
     "start_time": "2024-06-17T21:59:52.746661Z"
    }
   },
   "id": "fcc05d83e7714e05",
   "execution_count": 59
  },
  {
   "cell_type": "code",
   "outputs": [
    {
     "data": {
      "text/plain": "            unique_id year_quarter  num_pushers iso2_code    language  year  \\\n0             AE-HTML      2020-Q1       2066.0        AE        HTML  2020   \n1             AE-HTML      2020-Q2       3254.0        AE        HTML  2020   \n2             AE-HTML      2020-Q3       3208.0        AE        HTML  2020   \n3             AE-HTML      2020-Q4       3255.0        AE        HTML  2020   \n4             AE-HTML      2021-Q1       3321.0        AE        HTML  2021   \n...               ...          ...          ...       ...         ...   ...   \n136203  YE-TypeScript      2022-Q4          0.0        YE  TypeScript  2022   \n136204  YE-TypeScript      2023-Q1          0.0        YE  TypeScript  2023   \n136205  YE-TypeScript      2023-Q2          0.0        YE  TypeScript  2023   \n136206  YE-TypeScript      2023-Q3          0.0        YE  TypeScript  2023   \n136207  YE-TypeScript      2023-Q4        111.0        YE  TypeScript  2023   \n\n        quarter  quarter_int  gpt_available  population  num_pushers_pc  \\\n0             1            1              1     9446000       21.871692   \n1             2            2              1     9446000       34.448444   \n2             3            3              1     9446000       33.961465   \n3             4            4              1     9446000       34.459030   \n4             1            5              1     9446000       35.157739   \n...         ...          ...            ...         ...             ...   \n136203        4           12              0    25956000        0.000000   \n136204        1           13              0    25956000        0.000000   \n136205        2           14              0    25956000        0.000000   \n136206        3           15              0    25956000        0.000000   \n136207        4           16              0    25956000        0.427647   \n\n        post_CI  \n0             0  \n1             0  \n2             0  \n3             0  \n4             0  \n...         ...  \n136203        0  \n136204        0  \n136205        0  \n136206        0  \n136207        0  \n\n[136208 rows x 12 columns]",
      "text/html": "<div>\n<style scoped>\n    .dataframe tbody tr th:only-of-type {\n        vertical-align: middle;\n    }\n\n    .dataframe tbody tr th {\n        vertical-align: top;\n    }\n\n    .dataframe thead th {\n        text-align: right;\n    }\n</style>\n<table border=\"1\" class=\"dataframe\">\n  <thead>\n    <tr style=\"text-align: right;\">\n      <th></th>\n      <th>unique_id</th>\n      <th>year_quarter</th>\n      <th>num_pushers</th>\n      <th>iso2_code</th>\n      <th>language</th>\n      <th>year</th>\n      <th>quarter</th>\n      <th>quarter_int</th>\n      <th>gpt_available</th>\n      <th>population</th>\n      <th>num_pushers_pc</th>\n      <th>post_CI</th>\n    </tr>\n  </thead>\n  <tbody>\n    <tr>\n      <th>0</th>\n      <td>AE-HTML</td>\n      <td>2020-Q1</td>\n      <td>2066.0</td>\n      <td>AE</td>\n      <td>HTML</td>\n      <td>2020</td>\n      <td>1</td>\n      <td>1</td>\n      <td>1</td>\n      <td>9446000</td>\n      <td>21.871692</td>\n      <td>0</td>\n    </tr>\n    <tr>\n      <th>1</th>\n      <td>AE-HTML</td>\n      <td>2020-Q2</td>\n      <td>3254.0</td>\n      <td>AE</td>\n      <td>HTML</td>\n      <td>2020</td>\n      <td>2</td>\n      <td>2</td>\n      <td>1</td>\n      <td>9446000</td>\n      <td>34.448444</td>\n      <td>0</td>\n    </tr>\n    <tr>\n      <th>2</th>\n      <td>AE-HTML</td>\n      <td>2020-Q3</td>\n      <td>3208.0</td>\n      <td>AE</td>\n      <td>HTML</td>\n      <td>2020</td>\n      <td>3</td>\n      <td>3</td>\n      <td>1</td>\n      <td>9446000</td>\n      <td>33.961465</td>\n      <td>0</td>\n    </tr>\n    <tr>\n      <th>3</th>\n      <td>AE-HTML</td>\n      <td>2020-Q4</td>\n      <td>3255.0</td>\n      <td>AE</td>\n      <td>HTML</td>\n      <td>2020</td>\n      <td>4</td>\n      <td>4</td>\n      <td>1</td>\n      <td>9446000</td>\n      <td>34.459030</td>\n      <td>0</td>\n    </tr>\n    <tr>\n      <th>4</th>\n      <td>AE-HTML</td>\n      <td>2021-Q1</td>\n      <td>3321.0</td>\n      <td>AE</td>\n      <td>HTML</td>\n      <td>2021</td>\n      <td>1</td>\n      <td>5</td>\n      <td>1</td>\n      <td>9446000</td>\n      <td>35.157739</td>\n      <td>0</td>\n    </tr>\n    <tr>\n      <th>...</th>\n      <td>...</td>\n      <td>...</td>\n      <td>...</td>\n      <td>...</td>\n      <td>...</td>\n      <td>...</td>\n      <td>...</td>\n      <td>...</td>\n      <td>...</td>\n      <td>...</td>\n      <td>...</td>\n      <td>...</td>\n    </tr>\n    <tr>\n      <th>136203</th>\n      <td>YE-TypeScript</td>\n      <td>2022-Q4</td>\n      <td>0.0</td>\n      <td>YE</td>\n      <td>TypeScript</td>\n      <td>2022</td>\n      <td>4</td>\n      <td>12</td>\n      <td>0</td>\n      <td>25956000</td>\n      <td>0.000000</td>\n      <td>0</td>\n    </tr>\n    <tr>\n      <th>136204</th>\n      <td>YE-TypeScript</td>\n      <td>2023-Q1</td>\n      <td>0.0</td>\n      <td>YE</td>\n      <td>TypeScript</td>\n      <td>2023</td>\n      <td>1</td>\n      <td>13</td>\n      <td>0</td>\n      <td>25956000</td>\n      <td>0.000000</td>\n      <td>0</td>\n    </tr>\n    <tr>\n      <th>136205</th>\n      <td>YE-TypeScript</td>\n      <td>2023-Q2</td>\n      <td>0.0</td>\n      <td>YE</td>\n      <td>TypeScript</td>\n      <td>2023</td>\n      <td>2</td>\n      <td>14</td>\n      <td>0</td>\n      <td>25956000</td>\n      <td>0.000000</td>\n      <td>0</td>\n    </tr>\n    <tr>\n      <th>136206</th>\n      <td>YE-TypeScript</td>\n      <td>2023-Q3</td>\n      <td>0.0</td>\n      <td>YE</td>\n      <td>TypeScript</td>\n      <td>2023</td>\n      <td>3</td>\n      <td>15</td>\n      <td>0</td>\n      <td>25956000</td>\n      <td>0.000000</td>\n      <td>0</td>\n    </tr>\n    <tr>\n      <th>136207</th>\n      <td>YE-TypeScript</td>\n      <td>2023-Q4</td>\n      <td>111.0</td>\n      <td>YE</td>\n      <td>TypeScript</td>\n      <td>2023</td>\n      <td>4</td>\n      <td>16</td>\n      <td>0</td>\n      <td>25956000</td>\n      <td>0.427647</td>\n      <td>0</td>\n    </tr>\n  </tbody>\n</table>\n<p>136208 rows × 12 columns</p>\n</div>"
     },
     "execution_count": 8,
     "metadata": {},
     "output_type": "execute_result"
    }
   ],
   "source": [
    "df = pd.read_csv(\"balanced_df.csv\")\n",
    "df = df.drop('Unnamed: 0', axis=1)\n",
    "df"
   ],
   "metadata": {
    "collapsed": false,
    "ExecuteTime": {
     "end_time": "2024-06-29T15:56:20.043301Z",
     "start_time": "2024-06-29T15:56:17.476074Z"
    }
   },
   "id": "1e7b9a4412a4ad19",
   "execution_count": 8
  },
  {
   "cell_type": "code",
   "outputs": [
    {
     "data": {
      "text/plain": "unique_id          0\nyear_quarter       0\nnum_pushers        0\niso2_code         64\nlanguage           0\nyear               0\nquarter            0\nquarter_int        0\ngpt_available      0\npopulation         0\nnum_pushers_pc     0\npost_CI            0\ndtype: int64"
     },
     "execution_count": 9,
     "metadata": {},
     "output_type": "execute_result"
    }
   ],
   "source": [
    "df.isnull().sum()"
   ],
   "metadata": {
    "collapsed": false,
    "ExecuteTime": {
     "end_time": "2024-06-29T15:58:29.457543Z",
     "start_time": "2024-06-29T15:58:28.701727Z"
    }
   },
   "id": "1798f317674d99d",
   "execution_count": 9
  },
  {
   "cell_type": "markdown",
   "source": [
    "# # DataFrame Original"
   ],
   "metadata": {
    "collapsed": false
   },
   "id": "5fa1194bae7981c0"
  },
  {
   "cell_type": "code",
   "outputs": [
    {
     "data": {
      "text/plain": "            unique_id year_quarter  num_pushers iso2_code    language  year  \\\n0             AE-HTML      2020-Q1       2066.0        AE        HTML  2020   \n1             AE-HTML      2020-Q2       3254.0        AE        HTML  2020   \n2             AE-HTML      2020-Q3       3208.0        AE        HTML  2020   \n3             AE-HTML      2020-Q4       3255.0        AE        HTML  2020   \n4             AE-HTML      2021-Q1       3321.0        AE        HTML  2021   \n...               ...          ...          ...       ...         ...   ...   \n136203  YE-TypeScript      2022-Q4          0.0        YE  TypeScript  2022   \n136204  YE-TypeScript      2023-Q1          0.0        YE  TypeScript  2023   \n136205  YE-TypeScript      2023-Q2          0.0        YE  TypeScript  2023   \n136206  YE-TypeScript      2023-Q3          0.0        YE  TypeScript  2023   \n136207  YE-TypeScript      2023-Q4        111.0        YE  TypeScript  2023   \n\n        quarter  quarter_int  gpt_available  population  num_pushers_pc  \\\n0             1            1              1     9446000       21.871692   \n1             2            2              1     9446000       34.448444   \n2             3            3              1     9446000       33.961465   \n3             4            4              1     9446000       34.459030   \n4             1            5              1     9446000       35.157739   \n...         ...          ...            ...         ...             ...   \n136203        4           12              0    25956000        0.000000   \n136204        1           13              0    25956000        0.000000   \n136205        2           14              0    25956000        0.000000   \n136206        3           15              0    25956000        0.000000   \n136207        4           16              0    25956000        0.427647   \n\n        post_CI  python  Treatment  post_1  post_2  gpt_available_post1  \\\n0             0       0          0       0       0                    0   \n1             0       0          0       0       0                    0   \n2             0       0          0       0       0                    0   \n3             0       0          0       0       0                    0   \n4             0       0          0       0       0                    0   \n...         ...     ...        ...     ...     ...                  ...   \n136203        0       0          0       1       0                    0   \n136204        0       0          0       1       1                    0   \n136205        1       0          0       1       1                    0   \n136206        1       0          0       1       1                    0   \n136207        1       0          0       1       1                    0   \n\n        gpt_available_post2                               Category  \n0                         0       Domain-Specific Languages (DSLs)  \n1                         0       Domain-Specific Languages (DSLs)  \n2                         0       Domain-Specific Languages (DSLs)  \n3                         0       Domain-Specific Languages (DSLs)  \n4                         0       Domain-Specific Languages (DSLs)  \n...                     ...                                    ...  \n136203                    0  High-Level, General-Purpose Languages  \n136204                    0  High-Level, General-Purpose Languages  \n136205                    0  High-Level, General-Purpose Languages  \n136206                    0  High-Level, General-Purpose Languages  \n136207                    0  High-Level, General-Purpose Languages  \n\n[136208 rows x 19 columns]",
      "text/html": "<div>\n<style scoped>\n    .dataframe tbody tr th:only-of-type {\n        vertical-align: middle;\n    }\n\n    .dataframe tbody tr th {\n        vertical-align: top;\n    }\n\n    .dataframe thead th {\n        text-align: right;\n    }\n</style>\n<table border=\"1\" class=\"dataframe\">\n  <thead>\n    <tr style=\"text-align: right;\">\n      <th></th>\n      <th>unique_id</th>\n      <th>year_quarter</th>\n      <th>num_pushers</th>\n      <th>iso2_code</th>\n      <th>language</th>\n      <th>year</th>\n      <th>quarter</th>\n      <th>quarter_int</th>\n      <th>gpt_available</th>\n      <th>population</th>\n      <th>num_pushers_pc</th>\n      <th>post_CI</th>\n      <th>python</th>\n      <th>Treatment</th>\n      <th>post_1</th>\n      <th>post_2</th>\n      <th>gpt_available_post1</th>\n      <th>gpt_available_post2</th>\n      <th>Category</th>\n    </tr>\n  </thead>\n  <tbody>\n    <tr>\n      <th>0</th>\n      <td>AE-HTML</td>\n      <td>2020-Q1</td>\n      <td>2066.0</td>\n      <td>AE</td>\n      <td>HTML</td>\n      <td>2020</td>\n      <td>1</td>\n      <td>1</td>\n      <td>1</td>\n      <td>9446000</td>\n      <td>21.871692</td>\n      <td>0</td>\n      <td>0</td>\n      <td>0</td>\n      <td>0</td>\n      <td>0</td>\n      <td>0</td>\n      <td>0</td>\n      <td>Domain-Specific Languages (DSLs)</td>\n    </tr>\n    <tr>\n      <th>1</th>\n      <td>AE-HTML</td>\n      <td>2020-Q2</td>\n      <td>3254.0</td>\n      <td>AE</td>\n      <td>HTML</td>\n      <td>2020</td>\n      <td>2</td>\n      <td>2</td>\n      <td>1</td>\n      <td>9446000</td>\n      <td>34.448444</td>\n      <td>0</td>\n      <td>0</td>\n      <td>0</td>\n      <td>0</td>\n      <td>0</td>\n      <td>0</td>\n      <td>0</td>\n      <td>Domain-Specific Languages (DSLs)</td>\n    </tr>\n    <tr>\n      <th>2</th>\n      <td>AE-HTML</td>\n      <td>2020-Q3</td>\n      <td>3208.0</td>\n      <td>AE</td>\n      <td>HTML</td>\n      <td>2020</td>\n      <td>3</td>\n      <td>3</td>\n      <td>1</td>\n      <td>9446000</td>\n      <td>33.961465</td>\n      <td>0</td>\n      <td>0</td>\n      <td>0</td>\n      <td>0</td>\n      <td>0</td>\n      <td>0</td>\n      <td>0</td>\n      <td>Domain-Specific Languages (DSLs)</td>\n    </tr>\n    <tr>\n      <th>3</th>\n      <td>AE-HTML</td>\n      <td>2020-Q4</td>\n      <td>3255.0</td>\n      <td>AE</td>\n      <td>HTML</td>\n      <td>2020</td>\n      <td>4</td>\n      <td>4</td>\n      <td>1</td>\n      <td>9446000</td>\n      <td>34.459030</td>\n      <td>0</td>\n      <td>0</td>\n      <td>0</td>\n      <td>0</td>\n      <td>0</td>\n      <td>0</td>\n      <td>0</td>\n      <td>Domain-Specific Languages (DSLs)</td>\n    </tr>\n    <tr>\n      <th>4</th>\n      <td>AE-HTML</td>\n      <td>2021-Q1</td>\n      <td>3321.0</td>\n      <td>AE</td>\n      <td>HTML</td>\n      <td>2021</td>\n      <td>1</td>\n      <td>5</td>\n      <td>1</td>\n      <td>9446000</td>\n      <td>35.157739</td>\n      <td>0</td>\n      <td>0</td>\n      <td>0</td>\n      <td>0</td>\n      <td>0</td>\n      <td>0</td>\n      <td>0</td>\n      <td>Domain-Specific Languages (DSLs)</td>\n    </tr>\n    <tr>\n      <th>...</th>\n      <td>...</td>\n      <td>...</td>\n      <td>...</td>\n      <td>...</td>\n      <td>...</td>\n      <td>...</td>\n      <td>...</td>\n      <td>...</td>\n      <td>...</td>\n      <td>...</td>\n      <td>...</td>\n      <td>...</td>\n      <td>...</td>\n      <td>...</td>\n      <td>...</td>\n      <td>...</td>\n      <td>...</td>\n      <td>...</td>\n      <td>...</td>\n    </tr>\n    <tr>\n      <th>136203</th>\n      <td>YE-TypeScript</td>\n      <td>2022-Q4</td>\n      <td>0.0</td>\n      <td>YE</td>\n      <td>TypeScript</td>\n      <td>2022</td>\n      <td>4</td>\n      <td>12</td>\n      <td>0</td>\n      <td>25956000</td>\n      <td>0.000000</td>\n      <td>0</td>\n      <td>0</td>\n      <td>0</td>\n      <td>1</td>\n      <td>0</td>\n      <td>0</td>\n      <td>0</td>\n      <td>High-Level, General-Purpose Languages</td>\n    </tr>\n    <tr>\n      <th>136204</th>\n      <td>YE-TypeScript</td>\n      <td>2023-Q1</td>\n      <td>0.0</td>\n      <td>YE</td>\n      <td>TypeScript</td>\n      <td>2023</td>\n      <td>1</td>\n      <td>13</td>\n      <td>0</td>\n      <td>25956000</td>\n      <td>0.000000</td>\n      <td>0</td>\n      <td>0</td>\n      <td>0</td>\n      <td>1</td>\n      <td>1</td>\n      <td>0</td>\n      <td>0</td>\n      <td>High-Level, General-Purpose Languages</td>\n    </tr>\n    <tr>\n      <th>136205</th>\n      <td>YE-TypeScript</td>\n      <td>2023-Q2</td>\n      <td>0.0</td>\n      <td>YE</td>\n      <td>TypeScript</td>\n      <td>2023</td>\n      <td>2</td>\n      <td>14</td>\n      <td>0</td>\n      <td>25956000</td>\n      <td>0.000000</td>\n      <td>1</td>\n      <td>0</td>\n      <td>0</td>\n      <td>1</td>\n      <td>1</td>\n      <td>0</td>\n      <td>0</td>\n      <td>High-Level, General-Purpose Languages</td>\n    </tr>\n    <tr>\n      <th>136206</th>\n      <td>YE-TypeScript</td>\n      <td>2023-Q3</td>\n      <td>0.0</td>\n      <td>YE</td>\n      <td>TypeScript</td>\n      <td>2023</td>\n      <td>3</td>\n      <td>15</td>\n      <td>0</td>\n      <td>25956000</td>\n      <td>0.000000</td>\n      <td>1</td>\n      <td>0</td>\n      <td>0</td>\n      <td>1</td>\n      <td>1</td>\n      <td>0</td>\n      <td>0</td>\n      <td>High-Level, General-Purpose Languages</td>\n    </tr>\n    <tr>\n      <th>136207</th>\n      <td>YE-TypeScript</td>\n      <td>2023-Q4</td>\n      <td>111.0</td>\n      <td>YE</td>\n      <td>TypeScript</td>\n      <td>2023</td>\n      <td>4</td>\n      <td>16</td>\n      <td>0</td>\n      <td>25956000</td>\n      <td>0.427647</td>\n      <td>1</td>\n      <td>0</td>\n      <td>0</td>\n      <td>1</td>\n      <td>1</td>\n      <td>0</td>\n      <td>0</td>\n      <td>High-Level, General-Purpose Languages</td>\n    </tr>\n  </tbody>\n</table>\n<p>136208 rows × 19 columns</p>\n</div>"
     },
     "execution_count": 5,
     "metadata": {},
     "output_type": "execute_result"
    }
   ],
   "source": [
    "all_languages_panel = pd.read_csv(\"all_languages_panel.csv\")\n",
    "all_languages_panel = all_languages_panel.drop('Unnamed: 0', axis=1)\n",
    "all_languages_panel"
   ],
   "metadata": {
    "collapsed": false,
    "ExecuteTime": {
     "end_time": "2024-06-29T15:54:28.758633Z",
     "start_time": "2024-06-29T15:54:20.990822Z"
    }
   },
   "id": "6b75cb044d78c3e9",
   "execution_count": 5
  },
  {
   "cell_type": "code",
   "outputs": [
    {
     "data": {
      "text/plain": "unique_id               0\nyear_quarter            0\nnum_pushers             0\niso2_code              64\nlanguage                0\nyear                    0\nquarter                 0\nquarter_int             0\ngpt_available           0\npopulation              0\nnum_pushers_pc          0\npost_CI                 0\npython                  0\nTreatment               0\npost_1                  0\npost_2                  0\ngpt_available_post1     0\ngpt_available_post2     0\nCategory                0\ndtype: int64"
     },
     "execution_count": 7,
     "metadata": {},
     "output_type": "execute_result"
    }
   ],
   "source": [
    "all_languages_panel.isnull().sum()"
   ],
   "metadata": {
    "collapsed": false,
    "ExecuteTime": {
     "end_time": "2024-06-29T15:54:59.090226Z",
     "start_time": "2024-06-29T15:54:58.887170Z"
    }
   },
   "id": "8ec7738fc1e43221",
   "execution_count": 7
  },
  {
   "cell_type": "code",
   "outputs": [
    {
     "data": {
      "text/plain": "post_CI\n0    110669\n1     25539\nName: count, dtype: int64"
     },
     "execution_count": 12,
     "metadata": {},
     "output_type": "execute_result"
    }
   ],
   "source": [
    "all_languages_panel['post_CI'].value_counts()"
   ],
   "metadata": {
    "collapsed": false,
    "ExecuteTime": {
     "end_time": "2024-06-29T15:59:04.894217Z",
     "start_time": "2024-06-29T15:59:04.870203Z"
    }
   },
   "id": "90e1d34511be45cb",
   "execution_count": 12
  },
  {
   "cell_type": "code",
   "outputs": [
    {
     "data": {
      "text/plain": "post_CI\n0    99938\n1    36270\nName: count, dtype: int64"
     },
     "execution_count": 11,
     "metadata": {},
     "output_type": "execute_result"
    }
   ],
   "source": [
    "df['post_CI'].value_counts()"
   ],
   "metadata": {
    "collapsed": false,
    "ExecuteTime": {
     "end_time": "2024-06-29T15:59:00.269806Z",
     "start_time": "2024-06-29T15:59:00.232348Z"
    }
   },
   "id": "85eb5efff016b176",
   "execution_count": 11
  }
 ],
 "metadata": {
  "kernelspec": {
   "display_name": "Python 3",
   "language": "python",
   "name": "python3"
  },
  "language_info": {
   "codemirror_mode": {
    "name": "ipython",
    "version": 2
   },
   "file_extension": ".py",
   "mimetype": "text/x-python",
   "name": "python",
   "nbconvert_exporter": "python",
   "pygments_lexer": "ipython2",
   "version": "2.7.6"
  }
 },
 "nbformat": 4,
 "nbformat_minor": 5
}
