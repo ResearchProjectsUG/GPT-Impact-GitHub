{
 "cells": [
  {
   "cell_type": "markdown",
   "metadata": {},
   "source": [
    "# **Programming Language Adoption Trends in South Asia: A Comparative Study of Pushers Activity in Bangladesh, Sri Lanka, and India (2020-2024)**\n",
    "\n",
    "## Bangladesh - Number of Pushers per 100k by Programming Language"
   ]
  },
  {
   "cell_type": "markdown",
   "metadata": {},
   "source": [
    "<details>\n",
    "  <summary>Mostrar/Ocultar el código</summary>\n",
    "\n",
    "```python\n",
    "plt.figure(figsize=(10, 6))\n",
    "languages = df_filtered_BD['language'].unique()\n",
    "\n",
    "# Trazar cada lenguaje por separado\n",
    "for lang in languages:\n",
    "    filtered_data = df_filtered_BD[df_filtered_BD['language'] == lang]\n",
    "    plt.plot(filtered_data['year_quarter'], filtered_data['num_pushers_pc'], marker='o', label=lang)\n",
    "\n",
    "# Personalización del gráfico\n",
    "plt.title('Number of pushers per 100k by programming language - Bangladesh')\n",
    "plt.xlabel('Quarter')\n",
    "plt.ylabel('Number of pushers per 100K')\n",
    "plt.xticks(rotation=45)\n",
    "plt.legend(title='Programming Languages')\n",
    "\n",
    "# Crear el texto adicional para estadísticas\n",
    "text_data = [\n",
    "    'Number of periods: 17',\n",
    "    'Number of observations: 170',\n",
    "    'Number of programming languages: 10',\n",
    "    'Source: GitHub Innovation Graph'\n",
    "]\n",
    "\n",
    "# Mostrar el texto en el gráfico (fuera del área principal)\n",
    "plt.gcf().text(0.01, -0.1, '\\n'.join(text_data), ha='left', fontsize=10,\n",
    "               bbox=dict(facecolor='white', edgecolor='black'))\n",
    "\n",
    "# Ajustar el diseño para evitar superposición de elementos\n",
    "plt.tight_layout(rect=[0, 0, 0.85, 1])\n",
    "\n",
    "# Mostrar el gráfico\n",
    "plt.show()\n"
   ]
  },
  {
   "cell_type": "markdown",
   "metadata": {},
   "source": [
    "![Number of Pushers per 100k - Bangladesh](./output_BD.png)"
   ]
  },
  {
   "cell_type": "markdown",
   "metadata": {},
   "source": [
    "### Analysis\n",
    "This graph represents the number of pushers per 100,000 inhabitants by programming language in Bangladesh, from Q1 2020 to Q1 2024. Key insights from the graph include:\n",
    "\n",
    "- **JavaScript** shows a steep increase in the number of pushers over time, rising from around 5 per 100k to approximately 17 per 100k, indicating its growing popularity in Bangladesh's developer community.\n",
    "- **Python** and **PHP** also display moderate growth, with Python being the most steadily increasing language in terms of usage among developers.\n",
    "- Languages like **C**, **C#**, and **C++** remain relatively low in terms of usage, showing minimal fluctuations during the period.\n",
    "\n",
    "This data indicates a strong preference for web development technologies, with JavaScript, PHP, and Python leading the way, while systems programming languages like C and C++ are less popular in Bangladesh.\n",
    "\n",
    "### Key Observations:\n",
    "- **JavaScript** dominance can be attributed to its widespread use in web and mobile application development.\n",
    "- **Python**’s steady growth reflects its use in data science and machine learning projects, which are becoming more popular.\n",
    "- Other languages such as **Ruby**, **Go**, and **TypeScript** show little to no significant change, suggesting they have a niche but stable developer base."
   ]
  },
  {
   "cell_type": "markdown",
   "metadata": {},
   "source": [
    "## Sri Lanka - Number of Pushers per 100k by Programming Language\n"
   ]
  },
  {
   "cell_type": "markdown",
   "metadata": {},
   "source": [
    "<details>\n",
    "  <summary>Mostrar/Ocultar el código</summary>\n",
    "\n",
    "```python\n",
    "plt.figure(figsize=(10, 6))\n",
    "languages = df_filtered_LK['language'].unique()\n",
    "\n",
    "# Trazar cada lenguaje por separado\n",
    "for lang in languages:\n",
    "    filtered_data_1 = df_filtered_LK[df_filtered_LK['language'] == lang]\n",
    "    plt.plot(filtered_data_1['year_quarter'], filtered_data_1['num_pushers_pc'], marker='o', label=lang)\n",
    "\n",
    "# Personalización del gráfico\n",
    "plt.title('Number of pushers per 100k by programming language - Sri Lanka')\n",
    "plt.xlabel('Quarter')\n",
    "plt.ylabel('Number of pushers per 100K')\n",
    "plt.xticks(rotation=45)\n",
    "plt.legend(title='Programming Languages')\n",
    "\n",
    "# Crear el texto adicional para estadísticas\n",
    "text_data = [\n",
    "    'Number of periods: 17',\n",
    "    'Number of observations: 170',\n",
    "    'Number of programming languages: 10',\n",
    "    'Source: GitHub Innovation Graph'\n",
    "]\n",
    "\n",
    "# Mostrar el texto en el gráfico (fuera del área principal)\n",
    "plt.gcf().text(0.01, -0.1, '\\n'.join(text_data), ha='left', fontsize=10,\n",
    "               bbox=dict(facecolor='white', edgecolor='black'))\n",
    "\n",
    "# Ajustar el diseño para evitar superposición de elementos\n",
    "plt.tight_layout(rect=[0, 0, 0.85, 1])\n",
    "\n",
    "# Mostrar el gráfico\n",
    "plt.show()\n"
   ]
  },
  {
   "cell_type": "markdown",
   "metadata": {},
   "source": [
    "![Number of Pushers per 100k - Sri Lanka](./output_LK.png)"
   ]
  },
  {
   "cell_type": "markdown",
   "metadata": {},
   "source": [
    "### Analysis\n",
    "This graph displays the number of pushers per 100,000 inhabitants by programming language in Sri Lanka, from Q1 2020 to Q1 2024. The key observations from this data include:\n",
    "\n",
    "- **JavaScript** shows the most significant increase over time, starting around 20 pushers per 100k and reaching nearly 70 pushers by Q1 2024. This indicates a robust and growing preference for JavaScript in Sri Lanka's software development ecosystem.\n",
    "- **PHP** and **Python** are also popular languages, with PHP showing more fluctuations, but both languages have maintained steady growth over the years.\n",
    "- Similar to the Bangladesh trend, **C**, **C#**, and **C++** remain less popular, with minimal changes in the number of pushers.\n",
    "- **Go** and **Ruby** have very little presence, maintaining a low and stable number of pushers per 100k, which suggests limited adoption in Sri Lanka.\n",
    "\n",
    "### Key Observations:\n",
    "- The steep rise in **JavaScript** reflects Sri Lanka’s increased focus on web and mobile development, likely driven by a growing digital economy.\n",
    "- **PHP**'s fluctuations may point to its widespread but varying use in specific web development projects.\n",
    "- **Python**'s steady increase shows its ongoing use in data science and automation tasks, aligning with global trends in software development.\n",
    "- **C**, **C#**, and **C++** continue to be niche languages in Sri Lanka, focused perhaps on specific system-level applications or educational contexts.\n",
    "\n",
    "### Comparative Analysis with Bangladesh:\n",
    "- Sri Lanka shows a more dramatic rise in **JavaScript** compared to Bangladesh, with a larger base of pushers per 100k.\n",
    "- **Python** and **PHP** have similar levels of growth in both countries, although Sri Lanka shows more fluctuations in **PHP** usage."
   ]
  },
  {
   "cell_type": "markdown",
   "metadata": {},
   "source": [
    "## India - Number of Pushers per 100k by Programming Language"
   ]
  },
  {
   "cell_type": "markdown",
   "metadata": {},
   "source": [
    "<details>\n",
    "  <summary>Mostrar/Ocultar el código</summary>\n",
    "\n",
    "```python\n",
    "plt.figure(figsize=(10, 6))\n",
    "languages = df_filtered_IN['language'].unique()\n",
    "\n",
    "# Trazar cada lenguaje por separado\n",
    "for lang in languages:\n",
    "    filtered_data_2 = df_filtered_IN[df_filtered_IN['language'] == lang]\n",
    "    plt.plot(filtered_data_2['year_quarter'], filtered_data_2['num_pushers_pc'], marker='o', label=lang)\n",
    "\n",
    "# Personalización del gráfico\n",
    "plt.title('Number of pushers per 100k by programming language - India')\n",
    "plt.xlabel('Quarter')\n",
    "plt.ylabel('Number of pushers per 100K')\n",
    "plt.xticks(rotation=45)\n",
    "plt.legend(title='Programming Languages')\n",
    "\n",
    "# Crear el texto adicional para estadísticas\n",
    "text_data = [\n",
    "    'Number of periods: 17',\n",
    "    'Number of observations: 170',\n",
    "    'Number of programming languages: 10',\n",
    "    'Source: GitHub Innovation Graph'\n",
    "]\n",
    "\n",
    "# Mostrar el texto en el gráfico (fuera del área principal)\n",
    "plt.gcf().text(0.01, -0.1, '\\n'.join(text_data), ha='left', fontsize=10,\n",
    "               bbox=dict(facecolor='white', edgecolor='black'))\n",
    "\n",
    "# Ajustar el diseño para evitar superposición de elementos\n",
    "plt.tight_layout(rect=[0, 0, 0.85, 1])\n",
    "\n",
    "# Mostrar el gráfico\n",
    "plt.show()\n"
   ]
  },
  {
   "cell_type": "markdown",
   "metadata": {},
   "source": [
    "![Number of Pushers per 100k - India](./output_IN.png)"
   ]
  },
  {
   "cell_type": "markdown",
   "metadata": {},
   "source": [
    "### Analysis\n",
    "This graph presents the number of pushers per 100,000 inhabitants by programming language in India, from Q1 2020 to Q1 2024. The following insights can be drawn from the data:\n",
    "\n",
    "- **JavaScript** shows the highest growth rate, increasing from around 15 per 100k in early 2020 to over 35 per 100k by Q1 2024, underscoring its widespread adoption in India’s growing tech industry.\n",
    "- **Python** and **PHP** also show considerable growth, with Python experiencing a steady rise and PHP showing a moderate increase, indicating the increasing popularity of Python for data science and automation.\n",
    "- **Java** remains consistently strong, holding the second spot in popularity, reflecting its long-standing use in enterprise solutions and mobile app development, particularly in India’s large-scale IT projects.\n",
    "- **C**, **C#**, and **C++** continue to have a stable but smaller developer base compared to web development languages.\n",
    "\n",
    "### Key Observations:\n",
    "- **JavaScript** dominates the developer landscape, which is indicative of India’s focus on web development, startups, and mobile application ecosystems.\n",
    "- **Python**'s steady increase reflects the global trend of using the language for data-driven tasks and machine learning, areas where India is becoming a key global player.\n",
    "- **PHP** still holds importance for web-based projects, but it does not show as significant growth as JavaScript or Python.\n",
    "- The relatively flat growth in **C**, **C#**, and **C++** indicates that these languages are likely being used for specialized or legacy systems rather than driving innovation in the modern tech stack.\n",
    "\n",
    "### Comparative Analysis with Bangladesh and Sri Lanka:\n",
    "- **India** shows significantly higher activity in all languages, particularly **JavaScript** and **Java**, compared to Bangladesh and Sri Lanka, highlighting its role as a major IT hub.\n",
    "- While **Python** is also popular in Bangladesh and Sri Lanka, its growth in India is more pronounced, reflecting its broader use in advanced tech sectors such as AI and big data."
   ]
  }
 ],
 "metadata": {
  "language_info": {
   "name": "python"
  }
 },
 "nbformat": 4,
 "nbformat_minor": 2
}
